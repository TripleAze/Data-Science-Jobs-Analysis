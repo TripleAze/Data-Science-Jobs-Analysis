{
 "cells": [
  {
   "cell_type": "code",
   "execution_count": null,
   "metadata": {},
   "outputs": [],
   "source": [
    "# Import required libraries\n",
    "import pandas as pd\n",
    "import matplotlib.pyplot as plt\n",
    "import seaborn as sns\n",
    "import numpy as np"
   ]
  },
  {
   "cell_type": "code",
   "execution_count": null,
   "metadata": {},
   "outputs": [],
   "source": [
    "# Load the dataset\n",
    "df = pd.read_csv('Uncleaned_Ds_jobs.csv')"
   ]
  },
  {
   "cell_type": "code",
   "execution_count": null,
   "metadata": {},
   "outputs": [],
   "source": [
    "# Initial dataset overview\n",
    "print(\"Initial Data Overview:\")\n",
    "df.head()\n",
    "df.info()\n",
    "print(f\"Missing Values:\\n{df.isnull().sum()}\")\n",
    "print(f\"Duplicated Rows: {df.duplicated().sum()}\")\n"
   ]
  },
  {
   "cell_type": "markdown",
   "metadata": {},
   "source": [
    "\n",
    "\n",
    "# Data Cleaning and Preparation\n",
    "\n",
    "\n"
   ]
  },
  {
   "cell_type": "code",
   "execution_count": null,
   "metadata": {},
   "outputs": [],
   "source": [
    "\n",
    "# Clean Salary Estimate and create salary columns\n",
    "df['Salary Estimate'] = df['Salary Estimate'].str.replace(r'[^\\d\\-]', '', regex=True)\n",
    "df['Average Salary'] = df['Salary Estimate'].apply(\n",
    "    lambda x: (int(x.split('-')[0]) + int(x.split('-')[1])) // 2 if '-' in x else int(x)\n",
    ")\n",
    "df[['Min Salary', 'Max Salary']] = df['Salary Estimate'].str.split('-', expand=True)\n",
    "df['Min Salary'] = pd.to_numeric(df['Min Salary'], errors='coerce')\n",
    "df['Max Salary'] = pd.to_numeric(df['Max Salary'], errors='coerce')\n",
    "\n",
    "#Clean Salary Range column\n",
    "df['Salary range'].isnull().sum()\n",
    "df = df.dropna(subset=['Salary range'])\n",
    "df['Salary range'].isnull().sum()\n",
    "\n",
    "#Convert Salary range column into object\n",
    "df['Salary range'] = df['Salary range'].astype(object)\n",
    "\n",
    "#Clean state_full column\n",
    "df['state_full'].isnull().sum()\n",
    "df = df.dropna(subset=['state_full'])\n",
    "df['state_full'].isnull().sum()"
   ]
  },
  {
   "cell_type": "code",
   "execution_count": null,
   "metadata": {},
   "outputs": [],
   "source": [
    "\n",
    "# Extract state information from Location column\n",
    "df['state'] = df['Location'].str.split(\", \").str[-1].str.strip().str.title()\n"
   ]
  },
  {
   "cell_type": "code",
   "execution_count": null,
   "metadata": {},
   "outputs": [],
   "source": [
    "\n",
    "# Map state abbreviations to full names\n",
    "state_abbr_to_full = {\n",
    "    'Ny': 'New York', 'Va': 'Virginia', 'Ma': 'Massachusetts', 'Ca': 'California', \n",
    "    'Il': 'Illinois', 'Mo': 'Missouri', 'Wa': 'Washington', 'Dc': 'District of Columbia', \n",
    "    'Tn': 'Tennessee', 'Tx': 'Texas', 'Pa': 'Pennsylvania', 'Az': 'Arizona', \n",
    "    'Wi': 'Wisconsin', 'Ga': 'Georgia', 'Fl': 'Florida', 'Ne': 'Nebraska', \n",
    "    'Ks': 'Kansas', 'Nh': 'New Hampshire', 'Nj': 'New Jersey', 'La': 'Louisiana', \n",
    "    'Oh': 'Ohio', 'In': 'Indiana', 'Md': 'Maryland', 'Co': 'Colorado', \n",
    "    'Ut': 'Utah', 'Or': 'Oregon', 'Mi': 'Michigan', 'Sc': 'South Carolina', \n",
    "    'Ms': 'Mississippi', 'Al': 'Alabama', 'Ri': 'Rhode Island', 'Ia': 'Iowa', \n",
    "    'Mn': 'Minnesota', 'Ok': 'Oklahoma', 'Ct': 'Connecticut', 'Nc': 'North Carolina', \n",
    "    'De': 'Delaware', 'Wv': 'West Virginia'\n",
    "}\n",
    "df['state_full'] = df['state'].map(state_abbr_to_full)\n"
   ]
  },
  {
   "cell_type": "code",
   "execution_count": null,
   "metadata": {},
   "outputs": [],
   "source": [
    "\n",
    "# Standardize text columns\n",
    "df['Job Title'] = df['Job Title'].str.strip().str.title()\n",
    "df['Company Name'] = df['Company Name'].str.strip().str.title()\n"
   ]
  },
  {
   "cell_type": "code",
   "execution_count": null,
   "metadata": {},
   "outputs": [],
   "source": [
    "\n",
    "# Remove irrelevant rows\n",
    "df = df[~df['state'].isin(['Remote', 'United States'])]\n"
   ]
  },
  {
   "cell_type": "markdown",
   "metadata": {},
   "source": [
    "\n",
    "# Feature Engineering\n"
   ]
  },
  {
   "cell_type": "code",
   "execution_count": null,
   "metadata": {},
   "outputs": [],
   "source": [
    "\n",
    "\n",
    "\n",
    "# Extract key skills from job descriptions\n",
    "def extract_keywords(description):\n",
    "    keywords = ['Python', 'SQL', 'Machine Learning', 'Data Analysis', 'Tableau', 'Excel', 'Power BI']\n",
    "    found = [kw for kw in keywords if isinstance(description, str) and kw in description]\n",
    "    return \", \".join(found)\n",
    "\n",
    "df['key_skills'] = df['Job Description'].apply(extract_keywords)\n"
   ]
  },
  {
   "cell_type": "code",
   "execution_count": null,
   "metadata": {},
   "outputs": [],
   "source": [
    "\n",
    "# Create a salary range column\n",
    "df['Salary range'] = pd.cut(\n",
    "    df['Average Salary'], \n",
    "    bins=[50, 100, 150, 200, 271], \n",
    "    labels=[\"Low\", \"Mid\", \"High\", \"Very High\"]\n",
    ")\n"
   ]
  },
  {
   "cell_type": "markdown",
   "metadata": {},
   "source": [
    "\n",
    "# Data Visualization\n",
    "\n"
   ]
  },
  {
   "cell_type": "code",
   "execution_count": null,
   "metadata": {},
   "outputs": [],
   "source": [
    "\n",
    "# Salary distribution\n",
    "plt.figure(figsize=(10, 6))\n",
    "sns.histplot(df['Average Salary'], kde=True, color=\"skyblue\", bins=20)\n",
    "plt.title('Salary Distribution')\n",
    "plt.xlabel('Average Salary')\n",
    "plt.ylabel('Frequency')\n",
    "plt.show()\n"
   ]
  },
  {
   "cell_type": "code",
   "execution_count": null,
   "metadata": {},
   "outputs": [],
   "source": [
    "\n",
    "# Top job titles\n",
    "top_titles = df['Job Title'].value_counts().head(10)\n",
    "plt.figure(figsize=(10, 6))\n",
    "sns.barplot(x=top_titles.index, y=top_titles.values, palette=\"Blues_d\")\n",
    "plt.title('Top 10 Most Common Job Titles')\n",
    "plt.xlabel('Job Title')\n",
    "plt.ylabel('Frequency')\n",
    "plt.xticks(rotation=45)\n",
    "plt.show()\n"
   ]
  },
  {
   "cell_type": "code",
   "execution_count": null,
   "metadata": {},
   "outputs": [],
   "source": [
    "\n",
    "# Top states by job count\n",
    "top_states = df['state_full'].value_counts().head(10)\n",
    "plt.figure(figsize=(10, 6))\n",
    "sns.barplot(x=top_states.index, y=top_states.values, palette=\"viridis\")\n",
    "plt.title('Top 10 States by Job Count')\n",
    "plt.xlabel('State')\n",
    "plt.ylabel('Job Count')\n",
    "plt.xticks(rotation=45)\n",
    "plt.show()\n"
   ]
  },
  {
   "cell_type": "code",
   "execution_count": null,
   "metadata": {},
   "outputs": [],
   "source": [
    "\n",
    "# Average salary by state\n",
    "state_salary = df.groupby('state')['Average Salary'].mean().sort_values(ascending=False).head(10)\n",
    "print(\"Top 10 States by Average Salary:\")\n",
    "print(state_salary)\n"
   ]
  },
  {
   "cell_type": "markdown",
   "metadata": {},
   "source": [
    "\n",
    "\n",
    "# Reorder Columns\n"
   ]
  },
  {
   "cell_type": "code",
   "execution_count": null,
   "metadata": {},
   "outputs": [],
   "source": [
    "\n",
    "column_order = [\n",
    "    'Job Title', 'Job Description', 'key_skills',       \n",
    "    'Salary Estimate', 'Average Salary', 'Salary range', 'Min Salary', 'Max Salary', \n",
    "    'Company Name', 'Location', 'state', 'state_full',  \n",
    "    'Headquarters', 'Size', 'Founded', 'Sector', 'Revenue', 'Competitors',  \n",
    "    'Rating'\n",
    "]\n",
    "\n",
    "df = df[column_order]\n"
   ]
  },
  {
   "cell_type": "code",
   "execution_count": null,
   "metadata": {},
   "outputs": [],
   "source": [
    "\n",
    "# Final dataset overview\n",
    "print(\"Final Data Overview:\")\n",
    "df.head()\n"
   ]
  },
  {
   "cell_type": "code",
   "execution_count": null,
   "metadata": {},
   "outputs": [],
   "source": [
    "df.info()\n"
   ]
  },
  {
   "cell_type": "code",
   "execution_count": null,
   "metadata": {},
   "outputs": [],
   "source": []
  }
 ],
 "metadata": {
  "kernelspec": {
   "display_name": "base",
   "language": "python",
   "name": "python3"
  },
  "language_info": {
   "codemirror_mode": {
    "name": "ipython",
    "version": 3
   },
   "file_extension": ".py",
   "mimetype": "text/x-python",
   "name": "python",
   "nbconvert_exporter": "python",
   "pygments_lexer": "ipython3",
   "version": "3.12.4"
  }
 },
 "nbformat": 4,
 "nbformat_minor": 2
}
